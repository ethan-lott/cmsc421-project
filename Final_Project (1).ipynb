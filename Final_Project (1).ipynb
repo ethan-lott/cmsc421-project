{
  "nbformat": 4,
  "nbformat_minor": 0,
  "metadata": {
    "colab": {
      "provenance": []
    },
    "kernelspec": {
      "name": "python3",
      "display_name": "Python 3"
    },
    "language_info": {
      "name": "python"
    }
  },
  "cells": [
    {
      "cell_type": "code",
      "execution_count": 109,
      "metadata": {
        "colab": {
          "base_uri": "https://localhost:8080/"
        },
        "id": "MelBkPJN9Ly8",
        "outputId": "3163a23b-ada1-40c4-aaf5-02bf83c1eb41"
      },
      "outputs": [
        {
          "output_type": "stream",
          "name": "stdout",
          "text": [
            "Requirement already satisfied: pygame in /usr/local/lib/python3.10/dist-packages (2.5.2)\n"
          ]
        }
      ],
      "source": [
        "# Install the necessary packages\n",
        "!pip install gymnasium pyvirtualdisplay > /dev/null 2>&1\n",
        "!pip install pygame"
      ]
    },
    {
      "cell_type": "code",
      "source": [
        "import gymnasium as gym\n",
        "from gymnasium import spaces\n",
        "import numpy as np\n",
        "import pygame\n",
        "import itertools"
      ],
      "metadata": {
        "id": "WuHV7MWr-BvY"
      },
      "execution_count": 110,
      "outputs": []
    },
    {
      "cell_type": "code",
      "source": [
        "# helper functions\n",
        "\n",
        "def color(val, max):\n",
        "    if val > 0:\n",
        "      return (int(255*(1-val/max)),255,int(255*(1-val/max)))\n",
        "    elif val == 0:\n",
        "      return (255,255,255)\n",
        "    else:\n",
        "      return (255,int(255*(1+val/max)),int(255*(1+val/max)))"
      ],
      "metadata": {
        "id": "jNJ41vrJLhUh"
      },
      "execution_count": 111,
      "outputs": []
    },
    {
      "cell_type": "code",
      "source": [
        "class ParkingLot(gym.Env):\n",
        "\n",
        "  def __init__(self, lanes, spots_per_lane):\n",
        "\n",
        "    self.width = lanes * 3 + 1\n",
        "    self.height = spots_per_lane + 2\n",
        "\n",
        "    self.observation_space = spaces.Box(low=np.array([0, 0, 0]), high=np.array([self.height-1, self.width-1, 3]), shape=(3,), dtype=np.int32) # {y, x, direction (R,D,L,U)}\n",
        "    self.action_space = spaces.Discrete(3) # {Go forward, turn right, turn left}\n",
        "\n",
        "    self.agent_state = np.array([0,0,0])\n",
        "    self.grid = np.zeros((self.height, self.width))\n",
        "\n",
        "    for l in range(1, lanes+1):\n",
        "      self.grid[1:spots_per_lane+1, l*3-2] = 2*l-1\n",
        "      self.grid[1:spots_per_lane+1, l*3-1] = 2*l\n",
        "\n",
        "    self.lane_idx = np.array([l*3+1 for l in range(lanes)] + [l*3+2 for l in range(lanes)])\n",
        "    for s in range(spots_per_lane):\n",
        "      self.grid[s+1, self.lane_idx] += s\n",
        "\n",
        "  def __get_obs(self):\n",
        "    return self.agent_state\n",
        "\n",
        "  def _render_frame(self, screen, window_width, window_height):\n",
        "    w = window_width/self.width\n",
        "    h = window_height/self.height\n",
        "    for r in range(self.height):\n",
        "      for c in range(self.width):\n",
        "        pygame.draw.rect(screen, color(self.grid[r, c], np.max(np.abs(self.grid))), pygame.Rect(c*w, r*h, w, h))\n",
        "    pygame.draw.polygon(screen, 'blue', self.coordinates(w, h))\n",
        "\n",
        "  def render(self, screen, window_width, window_height):\n",
        "    return self._render_frame(screen, window_width, window_height)\n",
        "\n",
        "  def coordinates(self, w, h):\n",
        "    if self.agent_state[2] == 0:\n",
        "      return [\n",
        "        (self.agent_state[1]*w+w//4, self.agent_state[0]*h+h//4),\n",
        "        (self.agent_state[1]*w+3*w//4, self.agent_state[0]*h+h//2),\n",
        "        (self.agent_state[1]*w+w//4, self.agent_state[0]*h+3*h//4)]\n",
        "    elif self.agent_state[2] == 1:\n",
        "      return [\n",
        "        (self.agent_state[1]*w+w//4, self.agent_state[0]*h+h//4),\n",
        "        (self.agent_state[1]*w+w//2, self.agent_state[0]*h+3*h//4),\n",
        "        (self.agent_state[1]*w+3*w//4, self.agent_state[0]*h+h//4)]\n",
        "    elif self.agent_state[2] == 2:\n",
        "      return [\n",
        "        (self.agent_state[1]*w+w//4, self.agent_state[0]*h+h//2),\n",
        "        (self.agent_state[1]*w+3*w//4, self.agent_state[0]*h+h//4),\n",
        "        (self.agent_state[1]*w+3*w//4, self.agent_state[0]*h+3*h//4)]\n",
        "    elif self.agent_state[2] == 3:\n",
        "      return [\n",
        "        (self.agent_state[1]*w+w//2, self.agent_state[0]*h+h//4),\n",
        "        (self.agent_state[1]*w+w//4, self.agent_state[0]*h+3*h//4),\n",
        "        (self.agent_state[1]*w+3*w//4, self.agent_state[0]*h+3*h//4)]\n"
      ],
      "metadata": {
        "id": "bGBavUv0-EOR"
      },
      "execution_count": 159,
      "outputs": []
    },
    {
      "cell_type": "code",
      "source": [
        "import cv2\n",
        "from IPython.display import clear_output\n",
        "from google.colab.patches import cv2_imshow\n",
        "import time\n",
        "\n",
        "lot = ParkingLot(4, 10)\n",
        "grid_L = 50\n",
        "window_width = lot.width * grid_L\n",
        "window_height = lot.height * grid_L\n",
        "pygame.init()\n",
        "screen = pygame.display.set_mode((window_width, window_height))\n",
        "lot.render(screen, window_width, window_height)\n",
        "view = pygame.surfarray.array3d(screen)\n",
        "view = view.transpose([1, 0, 2])\n",
        "img_bgr = cv2.cvtColor(view, cv2.COLOR_RGB2BGR)\n",
        "cv2_imshow(img_bgr)"
      ],
      "metadata": {
        "id": "nWmjx9KRC-KG",
        "colab": {
          "base_uri": "https://localhost:8080/",
          "height": 617
        },
        "outputId": "20abbfb4-c95a-4b11-e322-3a89db615acf"
      },
      "execution_count": 160,
      "outputs": [
        {
          "output_type": "display_data",
          "data": {
            "text/plain": [
              "<PIL.Image.Image image mode=RGB size=650x600>"
            ],
            "image/png": "[encoded data removed]"
          },
          "metadata": {}
        }
      ]
    },
    {
      "cell_type": "code",
      "source": [],
      "metadata": {
        "id": "IwSyeeCfc_I4"
      },
      "execution_count": null,
      "outputs": []
    }
  ]
}